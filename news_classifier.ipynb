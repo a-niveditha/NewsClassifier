{
  "cells": [
    {
      "cell_type": "code",
      "execution_count": 1,
      "metadata": {
        "colab": {
          "base_uri": "https://localhost:8080/"
        },
        "id": "JAn1N-z5L6J5",
        "outputId": "12adad90-2a23-481d-ffc1-2e9405befde4"
      },
      "outputs": [
        {
          "name": "stdout",
          "output_type": "stream",
          "text": [
            "Requirement already satisfied: pandas in ./venv/lib/python3.10/site-packages (2.2.3)\n",
            "Requirement already satisfied: scikit-learn in ./venv/lib/python3.10/site-packages (1.5.2)\n",
            "Requirement already satisfied: nltk in ./venv/lib/python3.10/site-packages (3.9.1)\n",
            "Requirement already satisfied: pytz>=2020.1 in ./venv/lib/python3.10/site-packages (from pandas) (2024.2)\n",
            "Requirement already satisfied: tzdata>=2022.7 in ./venv/lib/python3.10/site-packages (from pandas) (2024.1)\n",
            "Collecting numpy>=1.22.4\n",
            "  Using cached numpy-2.1.1-cp310-cp310-manylinux_2_17_x86_64.manylinux2014_x86_64.whl (16.3 MB)\n",
            "Requirement already satisfied: python-dateutil>=2.8.2 in ./venv/lib/python3.10/site-packages (from pandas) (2.9.0.post0)\n",
            "Requirement already satisfied: scipy>=1.6.0 in ./venv/lib/python3.10/site-packages (from scikit-learn) (1.14.1)\n",
            "Requirement already satisfied: threadpoolctl>=3.1.0 in ./venv/lib/python3.10/site-packages (from scikit-learn) (3.5.0)\n",
            "Requirement already satisfied: joblib>=1.2.0 in ./venv/lib/python3.10/site-packages (from scikit-learn) (1.4.2)\n",
            "Collecting click\n",
            "  Using cached click-8.1.7-py3-none-any.whl (97 kB)\n",
            "Requirement already satisfied: regex>=2021.8.3 in ./venv/lib/python3.10/site-packages (from nltk) (2024.9.11)\n",
            "Requirement already satisfied: tqdm in ./venv/lib/python3.10/site-packages (from nltk) (4.66.5)\n",
            "Requirement already satisfied: six>=1.5 in ./venv/lib/python3.10/site-packages (from python-dateutil>=2.8.2->pandas) (1.16.0)\n",
            "Installing collected packages: numpy, click\n",
            "Successfully installed click-8.1.7 numpy-2.1.1\n"
          ]
        }
      ],
      "source": [
        "!pip install pandas scikit-learn nltk"
      ]
    },
    {
      "cell_type": "code",
      "execution_count": 1,
      "metadata": {
        "colab": {
          "base_uri": "https://localhost:8080/"
        },
        "id": "rIlPE7hyL8EA",
        "outputId": "be68a6e8-a116-440f-a9ee-b9d3a2a8f660"
      },
      "outputs": [
        {
          "data": {
            "text/plain": [
              "True"
            ]
          },
          "execution_count": 1,
          "metadata": {},
          "output_type": "execute_result"
        }
      ],
      "source": [
        "import pandas as pd\n",
        "from sklearn.model_selection import train_test_split\n",
        "from sklearn.feature_extraction.text import TfidfVectorizer\n",
        "from sklearn.naive_bayes import MultinomialNB\n",
        "from sklearn.metrics import accuracy_score, classification_report\n",
        "from sklearn.pipeline import Pipeline\n",
        "import nltk\n",
        "from nltk.corpus import stopwords\n",
        "from nltk.tokenize import word_tokenize\n",
        "import time\n",
        "\n",
        "nltk.download('punkt_tab', quiet=True)\n",
        "nltk.download('stopwords', quiet=True)\n",
        "nltk.download('wordnet', quiet=True)"
      ]
    },
    {
      "cell_type": "code",
      "execution_count": 2,
      "metadata": {
        "id": "0ShVjRtpL8Rm"
      },
      "outputs": [],
      "source": [
        "file_path = r'D:\\Codes\\NewsClassifier\\News_Category_Dataset_v3.json'\n",
        "df2 = pd.read_json(file_path, lines=True)\n",
        "df2['text'] = df2['headline'] + \" \" + df2['short_description']\n",
        "df2 = df2[['category', 'text']]"
      ]
    },
    {
      "cell_type": "code",
      "execution_count": 3,
      "metadata": {},
      "outputs": [
        {
          "name": "stdout",
          "output_type": "stream",
          "text": [
            "{'U.S. NEWS': 1377, 'COMEDY': 5400, 'PARENTING': 8791, 'WORLD NEWS': 3299, 'CULTURE & ARTS': 1074, 'TECH': 2104, 'SPORTS': 5077, 'ENTERTAINMENT': 17362, 'POLITICS': 35602, 'WEIRD NEWS': 2777, 'ENVIRONMENT': 1444, 'EDUCATION': 1014, 'CRIME': 3562, 'SCIENCE': 2206, 'WELLNESS': 17945, 'BUSINESS': 5992, 'STYLE & BEAUTY': 9814, 'FOOD & DRINK': 6340, 'MEDIA': 2944, 'QUEER VOICES': 6347, 'HOME & LIVING': 4320, 'WOMEN': 3572, 'BLACK VOICES': 4583, 'TRAVEL': 9900, 'MONEY': 1756, 'RELIGION': 2577, 'LATINO VOICES': 1130, 'IMPACT': 3484, 'WEDDINGS': 3653, 'COLLEGE': 1144, 'PARENTS': 3955, 'ARTS & CULTURE': 1339, 'STYLE': 2254, 'GREEN': 2622, 'TASTE': 2096, 'HEALTHY LIVING': 6694, 'THE WORLDPOST': 3664, 'GOOD NEWS': 1398, 'WORLDPOST': 2579, 'FIFTY': 1401, 'ARTS': 1509, 'DIVORCE': 3426}\n"
          ]
        },
        {
          "data": {
            "image/png": "[encoded data removed]",
            "text/plain": [
              "<Figure size 640x480 with 1 Axes>"
            ]
          },
          "metadata": {},
          "output_type": "display_data"
        }
      ],
      "source": [
        "#issue 1 - visualising the distriubution of all classes in the dataset. \n",
        "category_count={}\n",
        "for i in df2['category']:\n",
        "    if i in category_count:\n",
        "        category_count[i]+=1\n",
        "    else:\n",
        "        category_count[i]=1\n",
        "print(category_count)\n",
        "\n",
        "import matplotlib.pyplot as plt\n",
        "\n",
        "plt.bar(range(len(category_count)), list(category_count.values()), align='center')\n",
        "plt.xticks(range(len(category_count)), list(category_count.keys()))\n",
        "plt.show()"
      ]
    },
    {
      "cell_type": "code",
      "execution_count": 10,
      "metadata": {
        "id": "EuQaXpTJL8X6"
      },
      "outputs": [],
      "source": [
        "stop_words = set(stopwords.words('english'))\n",
        "\n",
        "def preprocess_text(text):\n",
        "    tokens = word_tokenize(text.lower())\n",
        "    tokens = [token for token in tokens if token.isalpha() and token not in stop_words]\n",
        "    return ' '.join(tokens)\n",
        "\n",
        "df2['processed_text'] = df2['text'].apply(preprocess_text)"
      ]
    },
    {
      "cell_type": "code",
      "execution_count": 11,
      "metadata": {
        "collapsed": true,
        "id": "dvuPlZEUMTW7"
      },
      "outputs": [],
      "source": [
        "X_train, X_test, y_train, y_test = train_test_split(df2['processed_text'], df2['category'], test_size=0.6)\n",
        "\n",
        "pipeline = Pipeline([\n",
        "    ('tfidf', TfidfVectorizer(max_features=5000)),\n",
        "    ('classifier', MultinomialNB()),\n",
        "])"
      ]
    },
    {
      "cell_type": "code",
      "execution_count": 13,
      "metadata": {
        "colab": {
          "base_uri": "https://localhost:8080/"
        },
        "id": "gnAY78liT977",
        "outputId": "ebd700c0-c2ac-4559-d482-454d3e5af814"
      },
      "outputs": [
        {
          "name": "stdout",
          "output_type": "stream",
          "text": [
            "Training the model...\n",
            "Training completed in 2.57 seconds (0.04 minutes)\n",
            "Making predictions...\n",
            "Accuracy: 0.4934\n",
            "\n",
            "Classification Report:\n",
            "                precision    recall  f1-score   support\n",
            "\n",
            "          ARTS       0.50      0.02      0.03       887\n",
            "ARTS & CULTURE       1.00      0.00      0.00       804\n",
            "  BLACK VOICES       0.64      0.06      0.11      2842\n",
            "      BUSINESS       0.48      0.24      0.32      3563\n",
            "       COLLEGE       0.40      0.00      0.01       678\n",
            "        COMEDY       0.68      0.19      0.30      3252\n",
            "         CRIME       0.53      0.44      0.49      2116\n",
            "CULTURE & ARTS       1.00      0.00      0.01       635\n",
            "       DIVORCE       0.87      0.43      0.57      2004\n",
            "     EDUCATION       0.67      0.00      0.01       608\n",
            " ENTERTAINMENT       0.44      0.76      0.56     10440\n",
            "   ENVIRONMENT       1.00      0.04      0.08       877\n",
            "         FIFTY       1.00      0.00      0.00       837\n",
            "  FOOD & DRINK       0.57      0.68      0.62      3770\n",
            "     GOOD NEWS       0.67      0.00      0.01       840\n",
            "         GREEN       0.42      0.06      0.11      1560\n",
            "HEALTHY LIVING       0.50      0.03      0.05      3989\n",
            " HOME & LIVING       0.82      0.43      0.56      2624\n",
            "        IMPACT       0.56      0.06      0.11      2065\n",
            " LATINO VOICES       1.00      0.00      0.00       680\n",
            "         MEDIA       0.62      0.04      0.08      1776\n",
            "         MONEY       0.69      0.06      0.11       997\n",
            "     PARENTING       0.43      0.56      0.48      5209\n",
            "       PARENTS       0.64      0.03      0.05      2373\n",
            "      POLITICS       0.48      0.93      0.63     21292\n",
            "  QUEER VOICES       0.78      0.38      0.51      3824\n",
            "      RELIGION       0.70      0.13      0.22      1534\n",
            "       SCIENCE       0.82      0.12      0.21      1311\n",
            "        SPORTS       0.69      0.41      0.51      3021\n",
            "         STYLE       1.00      0.00      0.00      1386\n",
            "STYLE & BEAUTY       0.62      0.75      0.68      5882\n",
            "         TASTE       1.00      0.00      0.00      1227\n",
            "          TECH       0.75      0.09      0.16      1321\n",
            " THE WORLDPOST       0.50      0.25      0.34      2176\n",
            "        TRAVEL       0.57      0.75      0.65      6010\n",
            "     U.S. NEWS       1.00      0.00      0.00       808\n",
            "      WEDDINGS       0.87      0.50      0.64      2181\n",
            "    WEIRD NEWS       0.42      0.03      0.06      1680\n",
            "      WELLNESS       0.39      0.86      0.54     10895\n",
            "         WOMEN       0.69      0.08      0.15      2164\n",
            "    WORLD NEWS       0.56      0.10      0.17      2016\n",
            "     WORLDPOST       0.57      0.03      0.05      1563\n",
            "\n",
            "      accuracy                           0.49    125717\n",
            "     macro avg       0.68      0.23      0.24    125717\n",
            "  weighted avg       0.58      0.49      0.42    125717\n",
            "\n"
          ]
        }
      ],
      "source": [
        "print(\"Training the model...\")\n",
        "start_time = time.time()\n",
        "pipeline.fit(X_train, y_train)\n",
        "end_time = time.time()\n",
        "training_time = end_time - start_time\n",
        "print(f\"Training completed in {training_time:.2f} seconds ({training_time/60:.2f} minutes)\")\n",
        "\n",
        "print(\"Making predictions...\")\n",
        "y_pred = pipeline.predict(X_test)\n",
        "\n",
        "accuracy = accuracy_score(y_test, y_pred)\n",
        "print(f\"Accuracy: {accuracy:.4f}\\n\")\n",
        "\n",
        "print(\"Classification Report:\")\n",
        "print(classification_report(y_test, y_pred, zero_division=1))"
      ]
    }
  ],
  "metadata": {
    "colab": {
      "provenance": []
    },
    "kernelspec": {
      "display_name": "venv",
      "language": "python",
      "name": "python3"
    },
    "language_info": {
      "codemirror_mode": {
        "name": "ipython",
        "version": 3
      },
      "file_extension": ".py",
      "mimetype": "text/x-python",
      "name": "python",
      "nbconvert_exporter": "python",
      "pygments_lexer": "ipython3",
      "version": "3.12.8"
    }
  },
  "nbformat": 4,
  "nbformat_minor": 0
}
