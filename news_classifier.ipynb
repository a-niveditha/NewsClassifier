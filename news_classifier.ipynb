{
  "cells": [
    {
      "cell_type": "code",
      "execution_count": null,
      "metadata": {
        "colab": {
          "base_uri": "https://localhost:8080/"
        },
        "id": "JAn1N-z5L6J5",
        "outputId": "12adad90-2a23-481d-ffc1-2e9405befde4"
      },
      "outputs": [],
      "source": [
        " # !pip install pandas scikit-learn nltk"
      ]
    },
    {
      "cell_type": "code",
      "execution_count": null,
      "metadata": {
        "colab": {
          "base_uri": "https://localhost:8080/"
        },
        "id": "rIlPE7hyL8EA",
        "outputId": "be68a6e8-a116-440f-a9ee-b9d3a2a8f660"
      },
      "outputs": [],
      "source": [
        "import pandas as pd\n",
        "from sklearn.model_selection import train_test_split\n",
        "from sklearn.feature_extraction.text import TfidfVectorizer\n",
        "from sklearn.naive_bayes import MultinomialNB\n",
        "from sklearn.metrics import accuracy_score, classification_report\n",
        "from sklearn.pipeline import Pipeline\n",
        "import nltk\n",
        "from nltk.corpus import stopwords\n",
        "from nltk.tokenize import word_tokenize\n",
        "import time\n",
        "\n",
        "nltk.download('punkt_tab', quiet=True)\n",
        "nltk.download('stopwords', quiet=True)\n",
        "nltk.download('wordnet', quiet=True)"
      ]
    },
    {
      "cell_type": "code",
      "execution_count": null,
      "metadata": {
        "id": "0ShVjRtpL8Rm"
      },
      "outputs": [],
      "source": [
        "file_path = r'D:\\Codes\\NewsClassifier\\News_Category_Dataset_v3.json'\n",
        "df2 = pd.read_json(file_path, lines=True)\n",
        "df2['text'] = df2['headline'] + \" \" + df2['short_description']\n",
        "df2 = df2[['category', 'text']]"
      ]
    },
    {
      "cell_type": "code",
      "execution_count": null,
      "metadata": {},
      "outputs": [],
      "source": [
        "#issue 1 - visualising the distriubution of all classes in the dataset. \n",
        "category_count={}\n",
        "classes=[]\n",
        "for i in df2['category']:\n",
        "    if i in category_count:\n",
        "        category_count[i]+=1\n",
        "    else:\n",
        "        category_count[i]=1\n",
        "        classes.append(i)\n",
        "print(category_count)\n",
        "\n",
        "import matplotlib.pyplot as plt\n",
        "\n",
        "plt.bar(range(len(category_count)), list(category_count.values()), align='center')\n",
        "plt.xticks(range(len(category_count)), list(category_count.keys()))\n",
        "plt.show()"
      ]
    },
    {
      "cell_type": "code",
      "execution_count": null,
      "metadata": {
        "id": "EuQaXpTJL8X6"
      },
      "outputs": [],
      "source": [
        "stop_words = set(stopwords.words('english'))\n",
        "#ref- stopwords is an inbuilt fn which has repitiive words like this, or, that, and etc. \n",
        "\n",
        "def preprocess_text(text):\n",
        "    tokens = word_tokenize(text.lower())\n",
        "    tokens = [token for token in tokens if token.isalpha() and token not in stop_words]\n",
        "    return ' '.join(tokens)\n",
        "\n",
        "df2['processed_text'] = df2['text'].apply(preprocess_text)\n",
        "#ref- apply means it will loop through everything in the dataframe and apply the specified fn to each and every one. "
      ]
    },
    {
      "cell_type": "code",
      "execution_count": null,
      "metadata": {
        "collapsed": true,
        "id": "dvuPlZEUMTW7"
      },
      "outputs": [],
      "source": [
        "X_train, X_test, y_train, y_test = train_test_split(df2['processed_text'], df2['category'], test_size=0.8)\n",
        "\n",
        "pipeline = Pipeline([\n",
        "    ('tfidf', TfidfVectorizer(max_features=5000)),\n",
        "    ('classifier', MultinomialNB()),\n",
        "]) "
      ]
    },
    {
      "cell_type": "code",
      "execution_count": null,
      "metadata": {
        "colab": {
          "base_uri": "https://localhost:8080/"
        },
        "id": "gnAY78liT977",
        "outputId": "ebd700c0-c2ac-4559-d482-454d3e5af814"
      },
      "outputs": [],
      "source": [
        "print(\"Training the model...\")\n",
        "start_time = time.time()\n",
        "pipeline.fit(X_train, y_train)\n",
        "end_time = time.time()\n",
        "training_time = end_time - start_time\n",
        "print(f\"Training completed in {training_time:.2f} seconds ({training_time/60:.2f} minutes)\")\n",
        "\n",
        "print(\"Making predictions...\")\n",
        "y_pred = pipeline.predict(X_test)\n",
        "\n",
        "accuracy = accuracy_score(y_test, y_pred)\n",
        "print(f\"Accuracy: {accuracy:.4f}\\n\")\n",
        "\n",
        "print(\"Classification Report:\")\n",
        "print(classification_report(y_test, y_pred, zero_division=1))"
      ]
    },
    {
      "cell_type": "code",
      "execution_count": null,
      "metadata": {},
      "outputs": [],
      "source": [
        "#confusion matrix\n",
        "import numpy as np\n",
        "from sklearn.metrics import confusion_matrix, ConfusionMatrixDisplay, classification_report\n",
        "\n",
        "cm = confusion_matrix(y_test, y_pred, labels=classes)\n",
        "disp = ConfusionMatrixDisplay(confusion_matrix=cm, display_labels=classes)\n",
        "disp.plot(cmap=plt.cm.Blues)\n",
        "plt.title('Confusion Matrix', fontsize=15, pad=20)\n",
        "plt.xlabel('Prediction', fontsize=11)\n",
        "plt.ylabel('Actual', fontsize=11)\n",
        "plt.gca().xaxis.set_label_position('top')\n",
        "plt.gca().xaxis.tick_top()\n",
        "plt.gca().figure.subplots_adjust(bottom=0.2)\n",
        "plt.gca().figure.text(0.5, 0.05, 'Prediction', ha='center', fontsize=13)\n",
        "\n",
        "plt.show()\n"
      ]
    }
  ],
  "metadata": {
    "colab": {
      "provenance": []
    },
    "kernelspec": {
      "display_name": "venv",
      "language": "python",
      "name": "python3"
    },
    "language_info": {
      "codemirror_mode": {
        "name": "ipython",
        "version": 3
      },
      "file_extension": ".py",
      "mimetype": "text/x-python",
      "name": "python",
      "nbconvert_exporter": "python",
      "pygments_lexer": "ipython3",
      "version": "3.12.8"
    }
  },
  "nbformat": 4,
  "nbformat_minor": 0
}
